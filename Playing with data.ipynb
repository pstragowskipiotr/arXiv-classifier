{
 "cells": [
  {
   "cell_type": "code",
   "execution_count": 73,
   "metadata": {},
   "outputs": [],
   "source": [
    "from arxiv_record import arxivRecord"
   ]
  },
  {
   "cell_type": "code",
   "execution_count": 74,
   "metadata": {},
   "outputs": [],
   "source": [
    "import json\n",
    "\n",
    "with open('arxiv_database.json', 'r') as json_file:\n",
    "    records = json.load(json_file)"
   ]
  },
  {
   "cell_type": "code",
   "execution_count": 52,
   "metadata": {},
   "outputs": [],
   "source": [
    "subject_dict = { 'Mathematics - Algebraic Geometry' : 'AG',\n",
    " 'Mathematics - Algebraic Topology' : 'AT',\n",
    " 'Mathematics - Analysis of PDEs' : 'AP',\n",
    " 'Mathematics - Category Theory' : 'CT',\n",
    " 'Mathematics - Classical Analysis and ODEs' : 'CA',\n",
    " 'Mathematics - Combinatorics' : 'CO',\n",
    " 'Mathematics - Commutative Algebra' : 'AC',\n",
    " 'Mathematics - Complex Variables' : 'CV',\n",
    " 'Mathematics - Differential Geometry' : 'DG',\n",
    " 'Mathematics - Dynamical Systems' : 'DS',\n",
    " 'Mathematics - Functional Analysis' : 'FA',\n",
    " 'Mathematics - General Mathematics' : 'GM',\n",
    " 'Mathematics - General Topology' : 'GN',\n",
    " 'Mathematics - Geometric Topology' : 'GT',\n",
    " 'Mathematics - Group Theory' : 'GR',\n",
    " 'Mathematics - History and Overview' : 'HO',\n",
    " 'Mathematics - K-Theory and Homology' : 'KT',\n",
    " 'Mathematics - Logic' : 'LO',\n",
    " 'Mathematics - Metric Geometry' : 'MG',\n",
    " 'Mathematics - Number Theory' : 'NP',\n",
    " 'Mathematics - Numerical Analysis' : 'NA',\n",
    " 'Mathematics - Operator Algebras' : 'OA',\n",
    " 'Mathematics - Optimization and Control' : 'OC',\n",
    " 'Mathematics - Probability' : 'PR',\n",
    " 'Mathematics - Quantum Algebra' : 'QA',\n",
    " 'Mathematics - Representation Theory' : 'RT',\n",
    " 'Mathematics - Rings and Algebras' : 'RA',\n",
    " 'Mathematics - Spectral Theory' : 'SP',\n",
    " 'Mathematics - Statistics Theory' : 'ST',\n",
    " 'Mathematics - Symplectic Geometry' : 'SG'}"
   ]
  },
  {
   "cell_type": "code",
   "execution_count": 75,
   "metadata": {},
   "outputs": [],
   "source": [
    "# change the look of the subjects\n",
    "for r in records:\n",
    "    for k in range(len(r['subjects'])):\n",
    "        r['subjects'][k] = subject_dict[r['subjects'][k]]"
   ]
  },
  {
   "cell_type": "code",
   "execution_count": 76,
   "metadata": {},
   "outputs": [],
   "source": [
    "# we keep only records which have assigned a math subject and we choose the first one as the main one \n",
    "records = [r for r in records if len(r['subjects']) > 0]\n",
    "\n",
    "for r in records:\n",
    "    r['subject'] = r['subjects'][0]"
   ]
  },
  {
   "cell_type": "code",
   "execution_count": 92,
   "metadata": {},
   "outputs": [
    {
     "data": {
      "text/plain": [
       "{'2007', '2008', '2009', '2010'}"
      ]
     },
     "execution_count": 92,
     "metadata": {},
     "output_type": "execute_result"
    }
   ],
   "source": [
    "set([r['date'][:4] for r in records])"
   ]
  },
  {
   "cell_type": "code",
   "execution_count": 80,
   "metadata": {},
   "outputs": [],
   "source": [
    "sa = records[0]['abstract']\n",
    "all_abstracts = ' '.join([r['abstract'] for r in records])"
   ]
  },
  {
   "cell_type": "code",
   "execution_count": 81,
   "metadata": {},
   "outputs": [],
   "source": [
    "# we find the most popular words occuring in the abstracts\n",
    "from nltk.tokenize import word_tokenize\n",
    "from nltk.probability import FreqDist\n",
    "from nltk.corpus import stopwords\n",
    "\n",
    "default_stopwords = set(stopwords.words('english'))\n",
    "\n",
    "words_in_ab = [word.lower() for word in word_tokenize(all_abstracts) if len(word) > 1]\n",
    "words_in_ab = [word for word in words_in_ab if not word in default_stopwords]\n",
    "afq = FreqDist(words_in_ab)\n",
    "most_common_words = [p[0] for p in afq.most_common(200)]"
   ]
  },
  {
   "cell_type": "code",
   "execution_count": 82,
   "metadata": {},
   "outputs": [],
   "source": [
    "# we prepare the feature set of the records \n",
    "\n",
    "def abstract_text_feature(a):\n",
    "    result = dict()\n",
    "    for w in most_common_words:\n",
    "        result[w] = int(w in a)\n",
    "    return result\n",
    "\n",
    "feature_set = [(abstract_text_feature(r['abstract']), r['subject']) for r in records]"
   ]
  },
  {
   "cell_type": "code",
   "execution_count": 83,
   "metadata": {},
   "outputs": [],
   "source": [
    "from random import shuffle\n",
    "\n",
    "# amount of data we use to train\n",
    "train_amount = int(len(feature_set)*0.9)\n",
    "\n",
    "shuffle(feature_set)\n",
    "train_set = feature_set[:train_amount]\n",
    "test_set = feature_set[train_amount:]"
   ]
  },
  {
   "cell_type": "code",
   "execution_count": 84,
   "metadata": {},
   "outputs": [],
   "source": [
    "import nltk\n",
    "\n",
    "# we train a NaiveBayes classifier to predict the category of the paper \n",
    "classifier = nltk.NaiveBayesClassifier.train(train_set)"
   ]
  },
  {
   "cell_type": "code",
   "execution_count": 85,
   "metadata": {},
   "outputs": [
    {
     "data": {
      "text/plain": [
       "0.4229940119760479"
      ]
     },
     "execution_count": 85,
     "metadata": {},
     "output_type": "execute_result"
    }
   ],
   "source": [
    "nltk.classify.accuracy(classifier, test_set)"
   ]
  },
  {
   "cell_type": "code",
   "execution_count": 86,
   "metadata": {},
   "outputs": [
    {
     "name": "stdout",
     "output_type": "stream",
     "text": [
      "Most Informative Features\n",
      "                category = 1                  CT : CA     =    524.8 : 1.0\n",
      "                  random = 1                  PR : DG     =    343.1 : 1.0\n",
      "                  groups = 1                  GR : NA     =    316.5 : 1.0\n",
      "              projective = 1                  AG : AP     =    237.1 : 1.0\n",
      "               curvature = 1                  DG : NP     =    206.2 : 1.0\n",
      "            distribution = 1                  ST : RA     =    204.9 : 1.0\n",
      "                 quantum = 1                  QA : CV     =    201.7 : 1.0\n",
      "             topological = 1                  GN : ST     =    198.3 : 1.0\n",
      "             probability = 1                  PR : AG     =    178.7 : 1.0\n",
      "                manifold = 1                  SG : AC     =    175.3 : 1.0\n",
      "               manifolds = 1                  SG : AC     =    170.7 : 1.0\n",
      "              asymptotic = 1                  ST : AT     =    169.4 : 1.0\n",
      "                algebras = 1                  RA : PR     =    166.7 : 1.0\n",
      "             convergence = 1                  NA : QA     =    152.6 : 1.0\n",
      "              stochastic = 1                  PR : QA     =    145.7 : 1.0\n",
      "              cohomology = 1                  AT : NA     =    136.2 : 1.0\n",
      "                equation = 1                  AP : KT     =    118.2 : 1.0\n",
      "                  graphs = 1                  CO : NA     =    112.8 : 1.0\n",
      "                operator = 1                  SP : HO     =     92.9 : 1.0\n",
      "                surfaces = 1                  DG : ST     =     91.4 : 1.0\n"
     ]
    }
   ],
   "source": [
    "classifier.show_most_informative_features(20)"
   ]
  }
 ],
 "metadata": {
  "kernelspec": {
   "display_name": "Python 3",
   "language": "python",
   "name": "python3"
  },
  "language_info": {
   "codemirror_mode": {
    "name": "ipython",
    "version": 3
   },
   "file_extension": ".py",
   "mimetype": "text/x-python",
   "name": "python",
   "nbconvert_exporter": "python",
   "pygments_lexer": "ipython3",
   "version": "3.7.1"
  }
 },
 "nbformat": 4,
 "nbformat_minor": 2
}
