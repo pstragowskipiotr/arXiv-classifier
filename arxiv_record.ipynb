{
 "cells": [
  {
   "cell_type": "markdown",
   "metadata": {},
   "source": [
    "This notebook contains an arxivRecord class, used to store metadata associated to a given document on the arXiv. "
   ]
  },
  {
   "cell_type": "code",
   "execution_count": 2,
   "metadata": {},
   "outputs": [],
   "source": [
    "class arxivRecord:\n",
    "    \n",
    "    def __init__(self, identifier = 'ISBN 0-399-14986-4', title = \"Pattern Recognition\", \n",
    "                 date = '2003-02-03', authors = ['William Gibson'], subjects = ['Sci-Fi'],\n",
    "                 abstract = '''Set in August and September 2002, the story follows Cayce Pollard, \n",
    "                 a 32-year-old marketing consultant who has a psychological sensitivity to corporate symbols.'''):\n",
    "        self.identifier = identifier\n",
    "        self.title = title\n",
    "        self.date = date\n",
    "        self.subjects = subjects\n",
    "        self.authors = authors\n",
    "        self.abstract = abstract\n",
    "    \n",
    "    # instantiates a new arxivRecord from an ElementTree retrieved from arxiv.org\n",
    "    def from_et(e):\n",
    "        # we get the ETs corresponding to header and metadata\n",
    "        header = e[0]\n",
    "        metadata = e[1][0]\n",
    "        \n",
    "        identifier = header[0].text[14:]\n",
    "        date = header[1].text\n",
    "        \n",
    "        # we now read each of the metadata fields\n",
    "        title_tag = '{http://purl.org/dc/elements/1.1/}title'\n",
    "        creator_tag = '{http://purl.org/dc/elements/1.1/}creator'\n",
    "        subject_tag = '{http://purl.org/dc/elements/1.1/}subject'\n",
    "        description_tag = '{http://purl.org/dc/elements/1.1/}description'\n",
    "        date_tag = '{http://purl.org/dc/elements/1.1/}date'\n",
    "        \n",
    "        title = [child.text for child in metadata if child.tag == title_tag][0]\n",
    "        authors = [child.text for child in metadata if child.tag == creator_tag]\n",
    "        subjects = [child.text for child in metadata if child.tag == subject_tag]\n",
    "        abstract = [child.text for child in metadata if child.tag == description_tag][0]\n",
    "        date = [child.text for child in metadata if child.tag == date_tag][0]\n",
    "        \n",
    "        # clean up the abstract and title by removing the newlines\n",
    "        def clean_up(s):\n",
    "            s = s.replace('\\n', ' ')\n",
    "            s = s.replace('  ', ' ')\n",
    "            if len(s) > 0:\n",
    "                if s[0] == ' ':\n",
    "                    s = s[1:]\n",
    "            if len(s) > 0: \n",
    "                if s[-1] == ' ':\n",
    "                    s = s[:-1]\n",
    "            return s\n",
    "        \n",
    "        title = clean_up(title)\n",
    "        abstract = clean_up(abstract)\n",
    "        \n",
    "        # keep only the arXiv categories corresponding to arXiv math subjects\n",
    "        subjects = [s for s in subjects if 'Mathematics - ' in s]\n",
    "        \n",
    "        return arxivRecord(identifier = identifier, title = title, date = date, authors = authors, abstract = abstract, subjects = subjects)\n",
    "    \n",
    "    def to_dict(self):\n",
    "        return { 'identifier' : self.identifier, 'title' : self.title, 'date' : self.date, \n",
    "                'authors' : self.authors, 'subjects' : self.subjects, 'abstract' : self.abstract}\n",
    "    \n",
    "    def from_dict(d):\n",
    "        return arxivRecord(identifier = d['identifier'], title = d['title'], date = d['date'],\n",
    "                          authors = d['authors'], subjects = d['subjects'], abstract = d['abstract'])\n",
    "        "
   ]
  },
  {
   "cell_type": "code",
   "execution_count": 12,
   "metadata": {},
   "outputs": [],
   "source": [
    "import xml.etree.ElementTree as ET\n",
    "import requests\n",
    "import time\n",
    "\n",
    "\n",
    "# returns a list of arxiv records in mathematics, starting with records from a given year and younger, \n",
    "# to a given maximum of records\n",
    "def get_arxiv_records(since = 2019, maximum = 100):\n",
    "    result = []\n",
    "    more_id_available = True\n",
    "    resumption_token = ''\n",
    "    \n",
    "    # toggles debug mode\n",
    "    DEBUG_MODE = True\n",
    "    \n",
    "    # in the loop, the code fetches the identifiers and then checks whether at the end we have a \"resumption token\"\n",
    "    # which means that the returned list is incomplete, in which case another request is made\n",
    "    while more_id_available:        \n",
    "        time.sleep(11)\n",
    "        if resumption_token == '':\n",
    "            url = \"http://export.arxiv.org/oai2?verb=ListRecords&from=\" + str(since) + \"-01-01&metadataPrefix=oai_dc&set=math\"\n",
    "        else:\n",
    "            url = \"http://export.arxiv.org/oai2?verb=ListRecords&resumptionToken=\" + resumption_token\n",
    "            \n",
    "        response = requests.get(url)\n",
    "        parsed = ET.fromstring(response.text)\n",
    "        list_identifiers = parsed[2]\n",
    "        \n",
    "        \n",
    "        result = result + [arxivRecord.from_et(child) for child in list_identifiers[:-1]]\n",
    "        \n",
    "        if list_identifiers[-1].text:\n",
    "            resumption_token = list_identifiers[-1].text\n",
    "        else:\n",
    "            more_id_available = False\n",
    "            \n",
    "        if len(result) > maximum:\n",
    "            more_id_available = False\n",
    "        else:\n",
    "            if DEBUG_MODE:\n",
    "                print(\"Currently \" + str(len(result)) + \" records downloaded.\")\n",
    "    return result[:maximum]"
   ]
  },
  {
   "cell_type": "markdown",
   "metadata": {},
   "source": [
    "Here's an example of using the get_arxiv_records() function to fetch some data from arxiv.org. "
   ]
  },
  {
   "cell_type": "code",
   "execution_count": 4,
   "metadata": {},
   "outputs": [],
   "source": [
    "some_ar = [ar.to_dict() for ar in get_arxiv_records(maximum = 10)]"
   ]
  },
  {
   "cell_type": "code",
   "execution_count": null,
   "metadata": {},
   "outputs": [
    {
     "name": "stdout",
     "output_type": "stream",
     "text": [
      "Currently 1000 records downloaded.\n",
      "Currently 2000 records downloaded.\n",
      "Currently 3000 records downloaded.\n",
      "Currently 4000 records downloaded.\n",
      "Currently 5000 records downloaded.\n",
      "Currently 6000 records downloaded.\n"
     ]
    }
   ],
   "source": [
    "import json\n",
    "\n",
    "records = [ar.to_dict() for ar in get_arxiv_records(since=1990, maximum = 100000)]\n",
    "with open('arxiv_database.json', 'w') as json_file:  \n",
    "    json.dump(records, json_file)"
   ]
  },
  {
   "cell_type": "code",
   "execution_count": 6,
   "metadata": {},
   "outputs": [],
   "source": [
    "with open('arxiv_database.json', 'r') as json_file:\n",
    "    loaded_list = json.load(json_file)"
   ]
  },
  {
   "cell_type": "code",
   "execution_count": 7,
   "metadata": {},
   "outputs": [
    {
     "data": {
      "text/plain": [
       "[{'identifier': '0705.1265',\n",
       "  'title': \"A noncommutative Bohnenblust-Spitzer identity for Rota-Baxter algebras  solves Bogoliubov's recursion\",\n",
       "  'date': '2007-05-09',\n",
       "  'authors': ['Ebrahimi-Fard, Kurusch',\n",
       "   'Manchon, Dominique',\n",
       "   'Patras, Frederic'],\n",
       "  'subjects': ['Mathematics - Combinatorics',\n",
       "   'High Energy Physics - Theory',\n",
       "   'Mathematical Physics',\n",
       "   'Mathematics - Rings and Algebras'],\n",
       "  'abstract': \"The Bogoliubov recursion is a particular procedure appearing in the process of renormalization in perturbative quantum field theory. It provides convergent expressions for otherwise divergent integrals. We develop here a theory of functional identities for noncommutative Rota-Baxter algebras which is shown to encode, among others, this process in the context of Connes-Kreimer's Hopf algebra of renormalization. Our results generalize the seminal Cartier-Rota theory of classical Spitzer-type identities for commutative Rota-Baxter algebras. In the classical, commutative, case, these identities can be understood as deriving from the theory of symmetric functions. Here, we show that an analogous property holds for noncommutative Rota-Baxter algebras. That is, we show that functional identities in the noncommutative setting can be derived from the theory of noncommutative symmetric functions. Lie idempotents, and particularly the Dynkin idempotent play a crucial role in the process. Their action on the pro-unipotent groups such as those of perturbative renormalization is described in detail along the way.\"},\n",
       " {'identifier': '0705.1286',\n",
       "  'title': 'On Power Stable Ideals',\n",
       "  'date': '2007-05-09',\n",
       "  'authors': ['Sharma, Pramod K.'],\n",
       "  'subjects': ['Mathematics - Commutative Algebra', '13A15'],\n",
       "  'abstract': 'We define the notion of a power stable ideal in a polynomial ring $ R[X]$ over an integral domain $ R $. It is proved that a maximal ideal $\\\\chi$ $ M $ in $ R[X]$ is power stable if and only if $ P^t $ is $ P$- primary for all $ t\\\\geq 1 $ for the prime ideal $ P = M \\\\cap R $. Using this we prove that for a Hilbert domain $R$ any radical ideal in $R[X]$ which is a finite intersection G-ideals is power stable. Further, we prove that if $ R $ is a Noetherian integral domain of dimension 1 then any radical ideal in $ R[X] $ is power stable. Finally, it is proved that if every ideal in $ R[X]$ is power stable then $ R $ is a field.'},\n",
       " {'identifier': '0705.1835',\n",
       "  'title': 'Decomposition and Enumeration of Triangulated Surfaces',\n",
       "  'date': '2007-05-13',\n",
       "  'authors': ['Amendola, Gennaro'],\n",
       "  'subjects': ['Mathematics - Combinatorics', '57Q15'],\n",
       "  'abstract': 'We describe some theoretical results on triangulations of surfaces and we develop a theory on roots, decompositions and genus-surfaces. We apply this theory to describe an algorithm to list all triangulations of closed surfaces with at most a fixed number of vertices. We specialize the theory for the case where the number of vertices is at most 11 and we get theoretical restrictions on genus-surfaces allowing us to get the list of triangulations of closed surfaces with at most 11 vertices.'},\n",
       " {'identifier': '0705.3857',\n",
       "  'title': 'Extremal metrics for spectral functions of Dirac operators in even and  odd dimensions',\n",
       "  'date': '2007-05-25',\n",
       "  'authors': ['Moller, Niels Martin'],\n",
       "  'subjects': ['Mathematics - Spectral Theory',\n",
       "   'Mathematics - Differential Geometry',\n",
       "   '58J52, 58J40'],\n",
       "  'abstract': \"Let (M^n, g) be a closed smooth Riemannian spin manifold and denote by D its Atiyah-Singer-Dirac operator. We study the variation of Riemannian metrics for the zeta function and functional determinant of D^2, and prove finiteness of the Morse index at stationary metrics, and local extremality at such metrics under general, i.e. not only conformal, change of metrics.  In even dimensions, which is also a new case for the conformal Laplacian, the relevant stability operator is of log-polyhomogeneous pseudodifferential type, and we prove new results of independent interest, on the spectrum for such operators. We use this to prove local extremality under variation of the Riemannian metric, which in the important example when (M^n, g) is the round n-sphere, gives a partial verification of Branson's conjecture on the pattern of extremals. Thus det(D^2) has a local (max, max, min, min) when the dimension is (4k, 4k + 1, 4k + 2, 4k + 3), respectively.\"},\n",
       " {'identifier': '0705.4499',\n",
       "  'title': 'Periodicity in Rank 2 Graph Algebras',\n",
       "  'date': '2007-05-30',\n",
       "  'authors': ['Davidson, Kenneth R.', 'Yang, Dilian'],\n",
       "  'subjects': ['Mathematics - Operator Algebras', '47L55'],\n",
       "  'abstract': 'Kumjian and Pask introduced an aperiodicity condition for higher rank graphs. We present a detailed analysis of when this occurs in certain rank 2 graphs. When the algebra is aperiodic, we give another proof of the simplicity of $\\\\ca(\\\\Fth)$. The periodic C*-algebras are characterized, and it is shown that $\\\\ca(\\\\Fth) \\\\simeq \\\\rC(\\\\bT) \\\\otimes \\\\fA$ where $\\\\fA$ is a simple C*-algebra.'},\n",
       " {'identifier': '0706.0357',\n",
       "  'title': 'On a certain continuity property of the residues of the poles of  $\\\\sum_{n \\\\geq 1} \\\\Lambda(n) e^{- \\\\pi i q n } n^{-s}$ with respect to $q \\\\in  \\\\mathbb{Q} \\\\cap (0, 2)$',\n",
       "  'date': '2007-06-04',\n",
       "  'authors': ['Shinya, Hisanobu'],\n",
       "  'subjects': ['Mathematics - General Mathematics', '11M26'],\n",
       "  'abstract': 'The purpose of this article is to present some result concerning the poles of the series $\\\\sum_{n \\\\geq 1} \\\\Lambda(n) e^{- \\\\pi i q n } n^{-s}$, where $q$ is rational and $\\\\Lambda$ is the arithmetical Mangoldt $\\\\Lambda$-function. A certain continuity property of the residues of the poles of $M(s, q)$ with respect to $q \\\\in \\\\mathbb{Q} \\\\cap (0, 2)$ is discussed.'},\n",
       " {'identifier': '0706.1138',\n",
       "  'title': 'A Stroll around The Jacobian Conjecture',\n",
       "  'date': '2007-06-08',\n",
       "  'authors': ['Oda, Susumu'],\n",
       "  'subjects': ['Mathematics - Commutative Algebra',\n",
       "   'Mathematics - Algebraic Geometry',\n",
       "   '13B25'],\n",
       "  'abstract': 'Our final target is a faded result, the Jacobian Conjecture : If $f_1,..., f_n$ be elements in a polynomial ring $k[X_1,..., X_n]$ over a field $k$ of characteristic zero such that $ \\\\det(\\\\partial f_i/ \\\\partial X_j) $ is a nonzero constant, then $k[f_1,..., f_n] = k[X_1,..., X_n]$. In addition, we raise some questions and some coments to our Main Result.'},\n",
       " {'identifier': '0706.1792',\n",
       "  'title': 'On existence of log minimal models',\n",
       "  'date': '2007-06-12',\n",
       "  'authors': ['Birkar, Caucher'],\n",
       "  'subjects': ['Mathematics - Algebraic Geometry'],\n",
       "  'abstract': 'In this paper, we prove that the log minimal model program in dimension $d-1$ implies the existence of log minimal models for effective lc pairs (eg of nonnegative Kodaira dimension) in dimension $d$. In fact, we prove that the same conclusion follows from a weaker assumption, namely, the log minimal model program with scaling in dimension $d-1$. This enables us to prove that effective lc pairs in dimension five have log minimal models. We also give new proofs of the existence of log minimal models for effective lc pairs in dimension four and the Shokurov reduction theorem. Other applications appear in a paper of Birkar-Paun.'},\n",
       " {'identifier': '0706.1929',\n",
       "  'title': 'Proof of Riemann Hypothesis',\n",
       "  'date': '2007-06-13',\n",
       "  'authors': ['Han, Jinzhu'],\n",
       "  'subjects': ['Mathematics - General Mathematics'],\n",
       "  'abstract': 'In this article, we will prove Riemann Hypothesis by using the mean value theorem of integrals. The function $ \\\\xi(s) $ is introduced by Riemann, which zeros are identical equal to non-trivial zeros of zeta function.The function $ \\\\xi(s) $ is an entire function, and its real part and imaginary part can be represented as infinite integral form. In the special condition, the mean value theorem of integrals is established for infinite integral. Using the mean value theorem of integrals and the isolation of zeros of analytic function, we determined that all zeros of the function $ \\\\xi(s) $ have real part equal to$\\\\frac{1}{2}$, namely, all non-trivial zeros of zeta function lies on the critical line. Riemann Hypothesis is true.'},\n",
       " {'identifier': '0706.3087',\n",
       "  'title': 'Stark units and main conjectures for totally real fields',\n",
       "  'date': '2007-06-21',\n",
       "  'authors': ['Buyukboduk, Kazim'],\n",
       "  'subjects': ['Mathematics - Number Theory',\n",
       "   '11R23, 11R27, 11R42, 11R80 (Primary) 11F80, 11R34 (Secondary)'],\n",
       "  'abstract': 'Main theorem of [Buyukboduk, arXiv:0706.0377v1] suggests that it should be possible to lift the Kolyvagin systems of Stark units constructed in [Buyukboduk, arXiv:math/0703426v1] to a Kolyvagin system over the cyclotomic Iwasawa algebra. This is what we prove in this paper. This construction gives the first example towards a more systematic study of Kolyvagin system theory over an Iwasawa algebra when the core Selmer rank is greater than one. As a result of this construction, we reduce the main conjectures of Iwasawa theory for totally real fields to a statement of local Iwasawa theory. This statement, however, turns out to be interesting in its own right as it suggests a relation between solutions to $p$-adic and complex Stark conjectures.'}]"
      ]
     },
     "execution_count": 7,
     "metadata": {},
     "output_type": "execute_result"
    }
   ],
   "source": [
    "loaded_list"
   ]
  },
  {
   "cell_type": "code",
   "execution_count": 11,
   "metadata": {},
   "outputs": [],
   "source": [
    "sample = arxivRecord.from_dict(loaded_list[0])"
   ]
  },
  {
   "cell_type": "code",
   "execution_count": 12,
   "metadata": {},
   "outputs": [
    {
     "data": {
      "text/plain": [
       "{'identifier': '0705.1265',\n",
       " 'title': \"A noncommutative Bohnenblust-Spitzer identity for Rota-Baxter algebras  solves Bogoliubov's recursion\",\n",
       " 'date': '2007-05-09',\n",
       " 'authors': ['Ebrahimi-Fard, Kurusch',\n",
       "  'Manchon, Dominique',\n",
       "  'Patras, Frederic'],\n",
       " 'subjects': ['Mathematics - Combinatorics',\n",
       "  'High Energy Physics - Theory',\n",
       "  'Mathematical Physics',\n",
       "  'Mathematics - Rings and Algebras'],\n",
       " 'abstract': \"The Bogoliubov recursion is a particular procedure appearing in the process of renormalization in perturbative quantum field theory. It provides convergent expressions for otherwise divergent integrals. We develop here a theory of functional identities for noncommutative Rota-Baxter algebras which is shown to encode, among others, this process in the context of Connes-Kreimer's Hopf algebra of renormalization. Our results generalize the seminal Cartier-Rota theory of classical Spitzer-type identities for commutative Rota-Baxter algebras. In the classical, commutative, case, these identities can be understood as deriving from the theory of symmetric functions. Here, we show that an analogous property holds for noncommutative Rota-Baxter algebras. That is, we show that functional identities in the noncommutative setting can be derived from the theory of noncommutative symmetric functions. Lie idempotents, and particularly the Dynkin idempotent play a crucial role in the process. Their action on the pro-unipotent groups such as those of perturbative renormalization is described in detail along the way.\"}"
      ]
     },
     "execution_count": 12,
     "metadata": {},
     "output_type": "execute_result"
    }
   ],
   "source": [
    "sample.to_dict()"
   ]
  },
  {
   "cell_type": "code",
   "execution_count": null,
   "metadata": {},
   "outputs": [],
   "source": []
  }
 ],
 "metadata": {
  "kernelspec": {
   "display_name": "Python 3",
   "language": "python",
   "name": "python3"
  },
  "language_info": {
   "codemirror_mode": {
    "name": "ipython",
    "version": 3
   },
   "file_extension": ".py",
   "mimetype": "text/x-python",
   "name": "python",
   "nbconvert_exporter": "python",
   "pygments_lexer": "ipython3",
   "version": "3.7.1"
  }
 },
 "nbformat": 4,
 "nbformat_minor": 2
}
