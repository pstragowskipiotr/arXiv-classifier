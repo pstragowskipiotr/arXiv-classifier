{
 "cells": [
  {
   "cell_type": "markdown",
   "metadata": {},
   "source": [
    "This notebook contains an arxivRecord class, used to store metadata associated to a given document on the arXiv. "
   ]
  },
  {
   "cell_type": "code",
   "execution_count": 1,
   "metadata": {},
   "outputs": [],
   "source": [
    "class arxivRecord:\n",
    "    \n",
    "    def __init__(self, identifier = 'ISBN 0-399-14986-4', title = \"Pattern Recognition\", \n",
    "                 date = '2003-02-03', authors = ['William Gibson'], subjects = ['Sci-Fi'],\n",
    "                 abstract = '''Set in August and September 2002, the story follows Cayce Pollard, \n",
    "                 a 32-year-old marketing consultant who has a psychological sensitivity to corporate symbols.'''):\n",
    "        self.identifier = identifier\n",
    "        self.title = title\n",
    "        self.date = date\n",
    "        self.subjects = subjects\n",
    "        self.authors = authors\n",
    "        self.abstract = abstract\n",
    "    \n",
    "    # instantiates a new arxivRecord from an ElementTree retrieved from arxiv.org\n",
    "    def from_et(e):\n",
    "        # we get the ETs corresponding to header and metadata\n",
    "        header = e[0]\n",
    "        metadata = e[1][0]\n",
    "        \n",
    "        identifier = header[0].text[14:]\n",
    "        date = header[1].text\n",
    "        \n",
    "        # we now read each of the metadata fields\n",
    "        title_tag = '{http://purl.org/dc/elements/1.1/}title'\n",
    "        creator_tag = '{http://purl.org/dc/elements/1.1/}creator'\n",
    "        subject_tag = '{http://purl.org/dc/elements/1.1/}subject'\n",
    "        description_tag = '{http://purl.org/dc/elements/1.1/}description'\n",
    "        date_tag = '{http://purl.org/dc/elements/1.1/}date'\n",
    "        \n",
    "        title = [child.text for child in metadata if child.tag == title_tag][0]\n",
    "        authors = [child.text for child in metadata if child.tag == creator_tag]\n",
    "        subjects = [child.text for child in metadata if child.tag == subject_tag]\n",
    "        abstract = [child.text for child in metadata if child.tag == description_tag][0]\n",
    "        date = [child.text for child in metadata if child.tag == date_tag][0]\n",
    "        \n",
    "        # clean up the abstract and title by removing the newlines\n",
    "        def clean_up(s):\n",
    "            s = s.replace('\\n', ' ')\n",
    "            s = s.replace('  ', ' ')\n",
    "            if len(s) > 0:\n",
    "                if s[0] == ' ':\n",
    "                    s = s[1:]\n",
    "            if len(s) > 0: \n",
    "                if s[-1] == ' ':\n",
    "                    s = s[:-1]\n",
    "            return s\n",
    "        \n",
    "        title = clean_up(title)\n",
    "        abstract = clean_up(abstract)\n",
    "        \n",
    "        return arxivRecord(identifier = identifier, title = title, date = date, authors = authors, abstract = abstract, subjects = subjects)\n",
    "    \n",
    "    def to_dict(self):\n",
    "        return { 'identifier' : self.identifier, 'title' : self.title, 'date' : self.date, \n",
    "                'authors' : self.authors, 'subjects' : self.subjects, 'abstract' : self.abstract}\n",
    "        "
   ]
  },
  {
   "cell_type": "code",
   "execution_count": 2,
   "metadata": {},
   "outputs": [],
   "source": [
    "import xml.etree.ElementTree as ET\n",
    "import requests\n",
    "import time\n",
    "\n",
    "# returns a list of arxiv records in mathematics, starting with records from a given year and younger, \n",
    "# to a given maximum of records\n",
    "def get_arxiv_records(since = 2019, maximum = 100):\n",
    "    result = []\n",
    "    more_id_available = True\n",
    "    resumption_token = ''\n",
    "    \n",
    "    # in the loop, the code fetches the identifiers and then checks whether at the end we have a \"resumption token\"\n",
    "    # which means that the returned list is incomplete, in which case another request is made\n",
    "    while more_id_available:        \n",
    "        time.sleep(10)\n",
    "        if resumption_token == '':\n",
    "            url = \"http://export.arxiv.org/oai2?verb=ListRecords&from=\" + str(since) + \"-01-01&metadataPrefix=oai_dc&set=math\"\n",
    "        else:\n",
    "            url = \"http://export.arxiv.org/oai2?verb=ListRecords&resumptionToken=\" + resumption_token\n",
    "            \n",
    "        response = requests.get(url)\n",
    "        parsed = ET.fromstring(response.text)\n",
    "        list_identifiers = parsed[2]\n",
    "        \n",
    "        \n",
    "        result = result + [arxivRecord.from_et(child) for child in list_identifiers[:-1]]\n",
    "        \n",
    "        if list_identifiers[-1].text:\n",
    "            resumption_token = list_identifiers[-1].text\n",
    "        else:\n",
    "            more_id_available = False\n",
    "            \n",
    "        if len(result) > maximum:\n",
    "            more_id_available = False\n",
    "    return result[:maximum]"
   ]
  },
  {
   "cell_type": "markdown",
   "metadata": {},
   "source": [
    "Here's an example of using the get_arxiv_records() function to fetch some data from arxiv.org. "
   ]
  },
  {
   "cell_type": "code",
   "execution_count": null,
   "metadata": {},
   "outputs": [],
   "source": [
    "[ar.to_dict() for ar in get_arxiv_records(maximum = 10)]"
   ]
  },
  {
   "cell_type": "code",
   "execution_count": null,
   "metadata": {},
   "outputs": [],
   "source": []
  }
 ],
 "metadata": {
  "kernelspec": {
   "display_name": "Python 3",
   "language": "python",
   "name": "python3"
  },
  "language_info": {
   "codemirror_mode": {
    "name": "ipython",
    "version": 3
   },
   "file_extension": ".py",
   "mimetype": "text/x-python",
   "name": "python",
   "nbconvert_exporter": "python",
   "pygments_lexer": "ipython3",
   "version": "3.7.1"
  }
 },
 "nbformat": 4,
 "nbformat_minor": 2
}
